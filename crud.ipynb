{
 "cells": [
  {
   "cell_type": "markdown",
   "metadata": {},
   "source": [
    "#### CRUD em Python - Python e MySQL"
   ]
  },
  {
   "cell_type": "code",
   "execution_count": 1,
   "metadata": {},
   "outputs": [],
   "source": [
    "# importando as biblioteca\n",
    "import mysql.connector"
   ]
  },
  {
   "cell_type": "code",
   "execution_count": 2,
   "metadata": {},
   "outputs": [],
   "source": [
    "# Criando a conexão\n",
    "conexao = mysql.connector.connect(\n",
    "    host='localhost',\n",
    "    user='root',\n",
    "    password='',\n",
    "    database='crud_python'\n",
    ")\n",
    "\n",
    "# Criando um cursor\n",
    "cursor = conexao.cursor()"
   ]
  },
  {
   "cell_type": "code",
   "execution_count": 4,
   "metadata": {},
   "outputs": [],
   "source": [
    "# Create\n",
    "nome = 'João'\n",
    "email = 'joao12@email.com'\n",
    "senha = '123456'\n",
    "# Criando o comando\n",
    "query = f\"INSERT INTO tb_usuarios(nome, email, senha) VALUES ('{nome}', '{email}', '{senha}')\"\n",
    "# Executando o comando\n",
    "cursor.execute(query)\n",
    "conexao.commit()\n"
   ]
  },
  {
   "cell_type": "code",
   "execution_count": 6,
   "metadata": {},
   "outputs": [
    {
     "name": "stdout",
     "output_type": "stream",
     "text": [
      "[(1, 'João', 'joao12@email.com', '123456')]\n"
     ]
    }
   ],
   "source": [
    "# Read\n",
    "# Criando o comando\n",
    "query = f\"SELECT * FROM tb_usuarios\"\n",
    "# Executando o comando\n",
    "cursor.execute(query)\n",
    "consulta = cursor.fetchall()\n",
    "print(consulta)"
   ]
  },
  {
   "cell_type": "code",
   "execution_count": 7,
   "metadata": {},
   "outputs": [],
   "source": [
    "#Update\n",
    "upSenha = '654321'\n",
    "WheID = 1\n",
    "# Criando o comando\n",
    "query = f\"UPDATE tb_usuarios SET senha = '{upSenha}' WHERE id = {WheID}\"\n",
    "# Executando o comando\n",
    "cursor.execute(query)\n",
    "conexao.commit()"
   ]
  },
  {
   "cell_type": "code",
   "execution_count": null,
   "metadata": {},
   "outputs": [],
   "source": [
    "# Delete \n",
    "WheID = 1\n",
    "# Criando o comando\n",
    "query = f\"DELETE FROM tb_usuarios WHERE id = {WheID}\"\n",
    "# Executando o comando\n",
    "cursor.execute(query)\n",
    "conexao.commit()"
   ]
  },
  {
   "cell_type": "code",
   "execution_count": null,
   "metadata": {},
   "outputs": [],
   "source": [
    "# Encerrando a conexão\n",
    "cursor.close()\n",
    "conexao.close()"
   ]
  }
 ],
 "metadata": {
  "kernelspec": {
   "display_name": "Python 3.9.12 ('venv': venv)",
   "language": "python",
   "name": "python3"
  },
  "language_info": {
   "codemirror_mode": {
    "name": "ipython",
    "version": 3
   },
   "file_extension": ".py",
   "mimetype": "text/x-python",
   "name": "python",
   "nbconvert_exporter": "python",
   "pygments_lexer": "ipython3",
   "version": "3.9.12"
  },
  "orig_nbformat": 4,
  "vscode": {
   "interpreter": {
    "hash": "fb4fb3a04957d336365a58028811c7029616adafa9be05a00d85e079da805181"
   }
  }
 },
 "nbformat": 4,
 "nbformat_minor": 2
}
